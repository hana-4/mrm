{
 "cells": [
  {
   "cell_type": "code",
   "execution_count": 99,
   "metadata": {},
   "outputs": [],
   "source": [
    "import numpy as np\n",
    "import pandas as pd\n",
    "import matplotlib.pyplot as plt"
   ]
  },
  {
   "cell_type": "code",
   "execution_count": 100,
   "metadata": {},
   "outputs": [],
   "source": [
    "import re"
   ]
  },
  {
   "cell_type": "code",
   "execution_count": 101,
   "metadata": {},
   "outputs": [],
   "source": [
    "df=pd.read_csv(\"/Users/hanafahim/Downloads/CarPrices/CarPrice_Assignment.csv\")"
   ]
  },
  {
   "cell_type": "code",
   "execution_count": 102,
   "metadata": {},
   "outputs": [
    {
     "data": {
      "text/html": [
       "<div>\n",
       "<style scoped>\n",
       "    .dataframe tbody tr th:only-of-type {\n",
       "        vertical-align: middle;\n",
       "    }\n",
       "\n",
       "    .dataframe tbody tr th {\n",
       "        vertical-align: top;\n",
       "    }\n",
       "\n",
       "    .dataframe thead th {\n",
       "        text-align: right;\n",
       "    }\n",
       "</style>\n",
       "<table border=\"1\" class=\"dataframe\">\n",
       "  <thead>\n",
       "    <tr style=\"text-align: right;\">\n",
       "      <th></th>\n",
       "      <th>car_ID</th>\n",
       "      <th>symboling</th>\n",
       "      <th>CarName</th>\n",
       "      <th>fueltype</th>\n",
       "      <th>aspiration</th>\n",
       "      <th>doornumber</th>\n",
       "      <th>carbody</th>\n",
       "      <th>drivewheel</th>\n",
       "      <th>enginelocation</th>\n",
       "      <th>wheelbase</th>\n",
       "      <th>...</th>\n",
       "      <th>enginesize</th>\n",
       "      <th>fuelsystem</th>\n",
       "      <th>boreratio</th>\n",
       "      <th>stroke</th>\n",
       "      <th>compressionratio</th>\n",
       "      <th>horsepower</th>\n",
       "      <th>peakrpm</th>\n",
       "      <th>citympg</th>\n",
       "      <th>highwaympg</th>\n",
       "      <th>price</th>\n",
       "    </tr>\n",
       "  </thead>\n",
       "  <tbody>\n",
       "    <tr>\n",
       "      <th>0</th>\n",
       "      <td>1</td>\n",
       "      <td>3</td>\n",
       "      <td>alfa-romero giulia</td>\n",
       "      <td>gas</td>\n",
       "      <td>std</td>\n",
       "      <td>two</td>\n",
       "      <td>convertible</td>\n",
       "      <td>rwd</td>\n",
       "      <td>front</td>\n",
       "      <td>88.6</td>\n",
       "      <td>...</td>\n",
       "      <td>130</td>\n",
       "      <td>mpfi</td>\n",
       "      <td>3.47</td>\n",
       "      <td>2.68</td>\n",
       "      <td>9.0</td>\n",
       "      <td>111</td>\n",
       "      <td>5000</td>\n",
       "      <td>21</td>\n",
       "      <td>27</td>\n",
       "      <td>13495.0</td>\n",
       "    </tr>\n",
       "    <tr>\n",
       "      <th>1</th>\n",
       "      <td>2</td>\n",
       "      <td>3</td>\n",
       "      <td>alfa-romero stelvio</td>\n",
       "      <td>gas</td>\n",
       "      <td>std</td>\n",
       "      <td>two</td>\n",
       "      <td>convertible</td>\n",
       "      <td>rwd</td>\n",
       "      <td>front</td>\n",
       "      <td>88.6</td>\n",
       "      <td>...</td>\n",
       "      <td>130</td>\n",
       "      <td>mpfi</td>\n",
       "      <td>3.47</td>\n",
       "      <td>2.68</td>\n",
       "      <td>9.0</td>\n",
       "      <td>111</td>\n",
       "      <td>5000</td>\n",
       "      <td>21</td>\n",
       "      <td>27</td>\n",
       "      <td>16500.0</td>\n",
       "    </tr>\n",
       "    <tr>\n",
       "      <th>2</th>\n",
       "      <td>3</td>\n",
       "      <td>1</td>\n",
       "      <td>alfa-romero Quadrifoglio</td>\n",
       "      <td>gas</td>\n",
       "      <td>std</td>\n",
       "      <td>two</td>\n",
       "      <td>hatchback</td>\n",
       "      <td>rwd</td>\n",
       "      <td>front</td>\n",
       "      <td>94.5</td>\n",
       "      <td>...</td>\n",
       "      <td>152</td>\n",
       "      <td>mpfi</td>\n",
       "      <td>2.68</td>\n",
       "      <td>3.47</td>\n",
       "      <td>9.0</td>\n",
       "      <td>154</td>\n",
       "      <td>5000</td>\n",
       "      <td>19</td>\n",
       "      <td>26</td>\n",
       "      <td>16500.0</td>\n",
       "    </tr>\n",
       "    <tr>\n",
       "      <th>3</th>\n",
       "      <td>4</td>\n",
       "      <td>2</td>\n",
       "      <td>audi 100 ls</td>\n",
       "      <td>gas</td>\n",
       "      <td>std</td>\n",
       "      <td>four</td>\n",
       "      <td>sedan</td>\n",
       "      <td>fwd</td>\n",
       "      <td>front</td>\n",
       "      <td>99.8</td>\n",
       "      <td>...</td>\n",
       "      <td>109</td>\n",
       "      <td>mpfi</td>\n",
       "      <td>3.19</td>\n",
       "      <td>3.40</td>\n",
       "      <td>10.0</td>\n",
       "      <td>102</td>\n",
       "      <td>5500</td>\n",
       "      <td>24</td>\n",
       "      <td>30</td>\n",
       "      <td>13950.0</td>\n",
       "    </tr>\n",
       "    <tr>\n",
       "      <th>4</th>\n",
       "      <td>5</td>\n",
       "      <td>2</td>\n",
       "      <td>audi 100ls</td>\n",
       "      <td>gas</td>\n",
       "      <td>std</td>\n",
       "      <td>four</td>\n",
       "      <td>sedan</td>\n",
       "      <td>4wd</td>\n",
       "      <td>front</td>\n",
       "      <td>99.4</td>\n",
       "      <td>...</td>\n",
       "      <td>136</td>\n",
       "      <td>mpfi</td>\n",
       "      <td>3.19</td>\n",
       "      <td>3.40</td>\n",
       "      <td>8.0</td>\n",
       "      <td>115</td>\n",
       "      <td>5500</td>\n",
       "      <td>18</td>\n",
       "      <td>22</td>\n",
       "      <td>17450.0</td>\n",
       "    </tr>\n",
       "  </tbody>\n",
       "</table>\n",
       "<p>5 rows × 26 columns</p>\n",
       "</div>"
      ],
      "text/plain": [
       "   car_ID  symboling                   CarName fueltype aspiration doornumber  \\\n",
       "0       1          3        alfa-romero giulia      gas        std        two   \n",
       "1       2          3       alfa-romero stelvio      gas        std        two   \n",
       "2       3          1  alfa-romero Quadrifoglio      gas        std        two   \n",
       "3       4          2               audi 100 ls      gas        std       four   \n",
       "4       5          2                audi 100ls      gas        std       four   \n",
       "\n",
       "       carbody drivewheel enginelocation  wheelbase  ...  enginesize  \\\n",
       "0  convertible        rwd          front       88.6  ...         130   \n",
       "1  convertible        rwd          front       88.6  ...         130   \n",
       "2    hatchback        rwd          front       94.5  ...         152   \n",
       "3        sedan        fwd          front       99.8  ...         109   \n",
       "4        sedan        4wd          front       99.4  ...         136   \n",
       "\n",
       "   fuelsystem  boreratio  stroke compressionratio horsepower  peakrpm citympg  \\\n",
       "0        mpfi       3.47    2.68              9.0        111     5000      21   \n",
       "1        mpfi       3.47    2.68              9.0        111     5000      21   \n",
       "2        mpfi       2.68    3.47              9.0        154     5000      19   \n",
       "3        mpfi       3.19    3.40             10.0        102     5500      24   \n",
       "4        mpfi       3.19    3.40              8.0        115     5500      18   \n",
       "\n",
       "   highwaympg    price  \n",
       "0          27  13495.0  \n",
       "1          27  16500.0  \n",
       "2          26  16500.0  \n",
       "3          30  13950.0  \n",
       "4          22  17450.0  \n",
       "\n",
       "[5 rows x 26 columns]"
      ]
     },
     "execution_count": 102,
     "metadata": {},
     "output_type": "execute_result"
    }
   ],
   "source": [
    "df.head()"
   ]
  },
  {
   "cell_type": "code",
   "execution_count": 104,
   "metadata": {},
   "outputs": [
    {
     "data": {
      "text/plain": [
       "CarName\n",
       "peugeot 504                6\n",
       "toyota corona              6\n",
       "toyota corolla             6\n",
       "subaru dl                  4\n",
       "mazda 626                  3\n",
       "                          ..\n",
       "volkswagen super beetle    1\n",
       "bmw x1                     1\n",
       "vw dasher                  1\n",
       "vw rabbit                  1\n",
       "volkswagen rabbit          1\n",
       "Name: count, Length: 147, dtype: int64"
      ]
     },
     "execution_count": 104,
     "metadata": {},
     "output_type": "execute_result"
    }
   ],
   "source": [
    "df['CarName'].value_counts()"
   ]
  },
  {
   "cell_type": "code",
   "execution_count": 105,
   "metadata": {},
   "outputs": [
    {
     "data": {
      "text/plain": [
       "fueltype\n",
       "gas       185\n",
       "diesel     20\n",
       "Name: count, dtype: int64"
      ]
     },
     "execution_count": 105,
     "metadata": {},
     "output_type": "execute_result"
    }
   ],
   "source": [
    "df['fueltype'].value_counts()"
   ]
  },
  {
   "cell_type": "code",
   "execution_count": 106,
   "metadata": {},
   "outputs": [],
   "source": [
    "\n",
    "df['fueltype']=df['fueltype'].replace({'gas':1,'diesel':0})"
   ]
  },
  {
   "cell_type": "code",
   "execution_count": 107,
   "metadata": {},
   "outputs": [
    {
     "data": {
      "text/plain": [
       "aspiration\n",
       "std      168\n",
       "turbo     37\n",
       "Name: count, dtype: int64"
      ]
     },
     "execution_count": 107,
     "metadata": {},
     "output_type": "execute_result"
    }
   ],
   "source": [
    "df['aspiration'].value_counts()"
   ]
  },
  {
   "cell_type": "code",
   "execution_count": 108,
   "metadata": {},
   "outputs": [],
   "source": [
    "df['aspiration']=df['aspiration'].replace({'std':1,'turbo':0})"
   ]
  },
  {
   "cell_type": "code",
   "execution_count": 109,
   "metadata": {},
   "outputs": [
    {
     "data": {
      "text/plain": [
       "doornumber\n",
       "four    115\n",
       "two      90\n",
       "Name: count, dtype: int64"
      ]
     },
     "execution_count": 109,
     "metadata": {},
     "output_type": "execute_result"
    }
   ],
   "source": [
    "df['doornumber'].value_counts()"
   ]
  },
  {
   "cell_type": "code",
   "execution_count": 110,
   "metadata": {},
   "outputs": [],
   "source": [
    "df['doornumber']=df['doornumber'].replace({'four':4,'two':2})"
   ]
  },
  {
   "cell_type": "code",
   "execution_count": 111,
   "metadata": {},
   "outputs": [
    {
     "data": {
      "text/plain": [
       "carbody\n",
       "sedan          96\n",
       "hatchback      70\n",
       "wagon          25\n",
       "hardtop         8\n",
       "convertible     6\n",
       "Name: count, dtype: int64"
      ]
     },
     "execution_count": 111,
     "metadata": {},
     "output_type": "execute_result"
    }
   ],
   "source": [
    "df['carbody'].value_counts()"
   ]
  },
  {
   "cell_type": "code",
   "execution_count": 112,
   "metadata": {},
   "outputs": [
    {
     "data": {
      "text/plain": [
       "enginelocation\n",
       "front    202\n",
       "rear       3\n",
       "Name: count, dtype: int64"
      ]
     },
     "execution_count": 112,
     "metadata": {},
     "output_type": "execute_result"
    }
   ],
   "source": [
    "df['enginelocation'].value_counts()"
   ]
  },
  {
   "cell_type": "code",
   "execution_count": 113,
   "metadata": {},
   "outputs": [],
   "source": [
    "df['enginelocation']=df['enginelocation'].replace({'front':1,'rear':0})"
   ]
  },
  {
   "cell_type": "code",
   "execution_count": 114,
   "metadata": {},
   "outputs": [
    {
     "data": {
      "text/plain": [
       "drivewheel\n",
       "fwd    120\n",
       "rwd     76\n",
       "4wd      9\n",
       "Name: count, dtype: int64"
      ]
     },
     "execution_count": 114,
     "metadata": {},
     "output_type": "execute_result"
    }
   ],
   "source": [
    "df['drivewheel'].value_counts()"
   ]
  },
  {
   "cell_type": "code",
   "execution_count": 115,
   "metadata": {},
   "outputs": [
    {
     "data": {
      "text/plain": [
       "cylindernumber\n",
       "four      159\n",
       "six        24\n",
       "five       11\n",
       "eight       5\n",
       "two         4\n",
       "twelve      1\n",
       "three       1\n",
       "Name: count, dtype: int64"
      ]
     },
     "execution_count": 115,
     "metadata": {},
     "output_type": "execute_result"
    }
   ],
   "source": [
    "df['cylindernumber'].value_counts()"
   ]
  },
  {
   "cell_type": "code",
   "execution_count": 116,
   "metadata": {},
   "outputs": [],
   "source": [
    "df['cylindernumber']=df['cylindernumber'].replace({'four':4,'six':6,'five':5,'eight':8,'two':2,'twelve':12,'three':3})"
   ]
  },
  {
   "cell_type": "code",
   "execution_count": 117,
   "metadata": {},
   "outputs": [
    {
     "data": {
      "text/plain": [
       "fuelsystem\n",
       "mpfi    94\n",
       "2bbl    66\n",
       "idi     20\n",
       "1bbl    11\n",
       "spdi     9\n",
       "4bbl     3\n",
       "mfi      1\n",
       "spfi     1\n",
       "Name: count, dtype: int64"
      ]
     },
     "execution_count": 117,
     "metadata": {},
     "output_type": "execute_result"
    }
   ],
   "source": [
    "df['fuelsystem'].value_counts()"
   ]
  },
  {
   "cell_type": "code",
   "execution_count": 118,
   "metadata": {},
   "outputs": [],
   "source": [
    "df_encoded = pd.get_dummies(df, columns=['drivewheel', 'carbody'])\n",
    "df_encoded=df_encoded.replace({True:1,False:0})\n"
   ]
  },
  {
   "cell_type": "code",
   "execution_count": 119,
   "metadata": {},
   "outputs": [
    {
     "name": "stdout",
     "output_type": "stream",
     "text": [
      "                      CarName enginetype fuelsystem\n",
      "0          alfa-romero giulia       dohc       mpfi\n",
      "1         alfa-romero stelvio       dohc       mpfi\n",
      "2    alfa-romero Quadrifoglio       ohcv       mpfi\n",
      "3                 audi 100 ls        ohc       mpfi\n",
      "4                  audi 100ls        ohc       mpfi\n",
      "..                        ...        ...        ...\n",
      "200           volvo 145e (sw)        ohc       mpfi\n",
      "201               volvo 144ea        ohc       mpfi\n",
      "202               volvo 244dl       ohcv       mpfi\n",
      "203                 volvo 246        ohc        idi\n",
      "204               volvo 264gl        ohc       mpfi\n",
      "\n",
      "[205 rows x 3 columns]\n"
     ]
    }
   ],
   "source": [
    "object_columns = df_encoded.select_dtypes(include='object')\n",
    "print(object_columns)"
   ]
  },
  {
   "cell_type": "code",
   "execution_count": 83,
   "metadata": {},
   "outputs": [
    {
     "data": {
      "text/plain": [
       "enginetype\n",
       "ohc      148\n",
       "ohcf      15\n",
       "ohcv      13\n",
       "dohc      12\n",
       "l         12\n",
       "rotor      4\n",
       "dohcv      1\n",
       "Name: count, dtype: int64"
      ]
     },
     "execution_count": 83,
     "metadata": {},
     "output_type": "execute_result"
    }
   ],
   "source": [
    "df_encoded[\"enginetype\"].value_counts()"
   ]
  },
  {
   "cell_type": "code",
   "execution_count": 85,
   "metadata": {},
   "outputs": [
    {
     "data": {
      "text/plain": [
       "fuelsystem\n",
       "mpfi    94\n",
       "2bbl    66\n",
       "idi     20\n",
       "1bbl    11\n",
       "spdi     9\n",
       "4bbl     3\n",
       "mfi      1\n",
       "spfi     1\n",
       "Name: count, dtype: int64"
      ]
     },
     "execution_count": 85,
     "metadata": {},
     "output_type": "execute_result"
    }
   ],
   "source": [
    "df_encoded[\"fuelsystem\"].value_counts()"
   ]
  },
  {
   "cell_type": "code",
   "execution_count": 120,
   "metadata": {},
   "outputs": [],
   "source": [
    "df_encoded=df_encoded.drop(columns=['CarName','enginetype','fuelsystem'],axis=1)"
   ]
  },
  {
   "cell_type": "code",
   "execution_count": 140,
   "metadata": {},
   "outputs": [],
   "source": [
    "df_encoded=df_encoded.sample(frac=1,random_state=42).reset_index(drop=True)\n",
    "split_idx = int(0.8 * len(df_encoded))\n",
    "x=df_encoded.drop(columns=['price'],axis=1)\n",
    "y=df_encoded[['price']]\n",
    "y_train=y[:split_idx]\n",
    "y_test=y[split_idx:]\n",
    "x_train=x[:split_idx]\n",
    "x_test=x[split_idx:]"
   ]
  },
  {
   "cell_type": "code",
   "execution_count": 141,
   "metadata": {},
   "outputs": [],
   "source": [
    "x_train=x_train.to_numpy()\n",
    "x_test=x_test.to_numpy()\n",
    "y_train=y_train.to_numpy()\n",
    "y_test=y_test.to_numpy()"
   ]
  },
  {
   "cell_type": "code",
   "execution_count": 142,
   "metadata": {},
   "outputs": [],
   "source": [
    "def zscore_normalise_features(x):\n",
    "    mu=np.mean(x,axis=0)\n",
    "    sd=np.std(x,axis=0)\n",
    "    x_norm=(x-mu)/sd\n",
    "    return mu,sd,x_norm\n",
    "mu,sd,x_norm_train=zscore_normalise_features(x_train)"
   ]
  },
  {
   "cell_type": "code",
   "execution_count": 143,
   "metadata": {},
   "outputs": [],
   "source": [
    "def compute_cost(x,y,w,b):\n",
    "    m,n=np.shape(x)\n",
    "    cost=0\n",
    "    for i in range (m):\n",
    "        cost=cost+ (np.dot(x[i],w)+b-y[i])**2\n",
    "    cost/=(2*m)\n",
    "    return cost"
   ]
  },
  {
   "cell_type": "code",
   "execution_count": 144,
   "metadata": {},
   "outputs": [
    {
     "name": "stderr",
     "output_type": "stream",
     "text": [
      "/var/folders/hq/31k7qhxj16315fvc4cc2j2b00000gn/T/ipykernel_57692/869326222.py:9: DeprecationWarning: Conversion of an array with ndim > 0 to a scalar is deprecated, and will error in future. Ensure you extract a single element from your array before performing this operation. (Deprecated NumPy 1.25.)\n",
      "  dj_dw[j]=dj_dw[j]+err*x[i,j]\n"
     ]
    },
    {
     "data": {
      "text/plain": [
       "(array([ 1095.90011978,   492.30818837,  1062.28507704,  1585.02252302,\n",
       "         -360.31699531,  2942.00299791, -4027.71460789, -5067.25722695,\n",
       "        -5541.16471482,  -872.64073598, -6345.08951506, -5550.29573931,\n",
       "        -6718.61015128, -4125.15307274,  -569.78514531,  -772.45226857,\n",
       "        -6354.8458855 ,   378.12586986,  5229.98434499,  5322.68774948,\n",
       "          444.75047029,  4524.27663187, -4848.4138361 , -1772.07402261,\n",
       "        -1249.99286431,  2155.57357215, -1098.42156845,   268.44397608]),\n",
       " array([-12975.61077439]))"
      ]
     },
     "execution_count": 144,
     "metadata": {},
     "output_type": "execute_result"
    }
   ],
   "source": [
    "def compute_gradient(x,y,w,b):\n",
    "    m,n=np.shape(x)\n",
    "    dj_dw=np.zeros((n,))\n",
    "    dj_db=0\n",
    "    for i in range(m):\n",
    "        err=(np.dot(w,x[i])+b-y[i])\n",
    "        dj_db=dj_db+err\n",
    "        for j in range (n):\n",
    "            dj_dw[j]=dj_dw[j]+err*x[i,j]\n",
    "    dj_dw/=m\n",
    "    dj_db/=m\n",
    "    return dj_dw,dj_db\n",
    "m,n=np.shape(x_train)\n",
    "w=np.zeros((n,))\n",
    "b=0\n",
    "compute_gradient(x_norm_train,y_train,w,b)"
   ]
  },
  {
   "cell_type": "code",
   "execution_count": 145,
   "metadata": {},
   "outputs": [
    {
     "name": "stderr",
     "output_type": "stream",
     "text": [
      "/var/folders/hq/31k7qhxj16315fvc4cc2j2b00000gn/T/ipykernel_57692/869326222.py:9: DeprecationWarning: Conversion of an array with ndim > 0 to a scalar is deprecated, and will error in future. Ensure you extract a single element from your array before performing this operation. (Deprecated NumPy 1.25.)\n",
      "  dj_dw[j]=dj_dw[j]+err*x[i,j]\n"
     ]
    },
    {
     "name": "stdout",
     "output_type": "stream",
     "text": [
      "[-1174.80476491    44.00677632  -349.5717884     50.23102021\n",
      "    77.30168183 -1596.79103871   615.65893412   161.41163592\n",
      "  1165.26688257   648.6876755   1156.03536503   845.79088888\n",
      "  1694.50721284   -17.25448739  -318.28105731   263.19413469\n",
      "  1690.79948146   507.58860844   -31.94200167   361.25661036\n",
      "    29.98809313  -379.71839309   376.47248627   694.15688988\n",
      "   -70.80017484    10.14711496   159.08820359  -578.24317452]\n",
      "[12975.54017951]\n",
      "[array([1.037649e+08]), array([95691012.70346059]), array([89138071.87800093]), array([83686866.30101588]), array([79042946.01265927]), array([74998960.34879503]), array([71408407.4071652]), array([68167332.27504203]), array([65201562.7794874]), array([62457803.60504084]), array([59897419.33405314]), array([57492091.86579072]), array([55220784.7948524]), array([53067619.41883442]), array([51020386.89247776]), array([49069504.51837921]), array([47207282.30947891]), array([45427406.46671933]), array([43724574.64102262]), array([42094237.52015956]), array([40532414.9940459]), array([39035564.71407402]), array([37600487.53204231]), array([36224258.95874385]), array([34904179.03193133]), array([33637735.25354072]), array([32422574.84307621]), array([31256483.66443908]), array([30137369.96115216]), array([29063251.58022437]), array([28032245.74779877]), array([27042560.72903681]), array([26092488.89448979]), array([25180400.8492767]), array([24304740.37635287]), array([23464020.01263417]), array([22656817.12487216]), array([21881770.38665234]), array([21137576.58270904]), array([20422987.68471754]), array([19736808.15581999]), array([19077892.45074898]), array([18445142.68552252]), array([17837506.45598871]), array([17253974.78849509]), array([16693580.20899898]), array([16155394.91927329]), array([15638529.07068144]), array([15142129.12742428]), array([14665376.31229887]), array([14207485.12892284]), array([13767701.95512119]), array([13345303.70278304]), array([12939596.54000166]), array([12549914.67173721]), array([12175619.17559917]), array([11816096.88965359]), array([11470759.34942303]), array([11139041.77147666]), array([10820402.08120734]), array([10514319.98256886]), array([10220296.06770209]), array([9937850.96451772]), array([9666524.52042757]), array([9405875.02052878]), array([9155478.43864649]), array([8914927.71973333]), array([8683832.09220825]), array([8461816.40889491]), array([8248520.51529152]), array([8043598.64396965]), array([7846718.83396123]), array([7657562.37404999]), array([7475823.26893645]), array([7301207.72729615]), array([7133433.67079645]), array([6972230.26318229]), array([6817337.45858167]), array([6668505.56822102]), array([6525494.8447774]), array([6388075.08362926]), array([6256025.24030025]), array([6129133.06342215]), array([6007194.74257234]), array([5890014.57036973]), array([5777404.61823939]), array([5669184.42528223]), array([5565180.69970967]), array([5465227.03232695]), array([5369163.62157034]), array([5276837.00962476]), array([5188099.82916835]), array([5102810.56030953]), array([5020833.29730056]), array([4942037.52462897]), array([4866297.90210485]), array([4793494.05857807]), array([4723510.39393481]), array([4656235.8890369]), array([4591563.9232822]), array([4529392.09947678]), array([4469622.07572301]), array([4412159.40403952]), array([4356913.37544108]), array([4303796.8712171]), array([4252726.22015871]), array([4203621.06149432]), array([4156404.21330351]), array([4111001.54618851]), array([4067341.86199149]), array([4025356.77735462]), array([3984980.6119281]), array([3946150.28103922]), array([3908805.19264332]), array([3872887.14838452]), array([3838340.24860133]), array([3805110.80111883]), array([3773147.23367555]), array([3742400.00983929]), array([3712821.54827212]), array([3684366.14521035]), array([3656989.90003081]), array([3630650.64377979]), array([3605307.87054619]), array([3580922.67156505]), array([3557457.67194235]), array([3534876.96989626]), array([3513146.07841427]), array([3492231.86922972]), array([3472102.51902513]), array([3452727.45777338]), array([3434077.3191314]), array([3416123.89280457]), array([3398840.07880309]), array([3382199.84351499]), array([3366178.17752326]), array([3350751.05509758]), array([3335895.39529399]), array([3321589.02459841]), array([3307810.64105241]), array([3294539.77980238]), array([3281756.78001528]), array([3269442.75310661]), array([3257579.55222843]), array([3246149.74296722]), array([3235136.57520344]), array([3224523.95608668]), array([3214296.42408191]), array([3204439.12404431]), array([3194937.78328181]), array([3185778.68856593]), array([3176948.6640535]), array([3168435.05008279]), array([3160225.68280947]), array([3152308.87464896]), array([3144673.39549323]), array([3137308.45467122]), array([3130203.68362334]), array([3123349.11926175]), array([3116735.18798922]), array([3110352.69035032]), array([3104192.78628997]), array([3098246.98099516]), array([3092507.11129677]), array([3086965.3326092]), array([3081614.10638653]), array([3076446.18807475]), array([3071454.61554023]), array([3066632.69795582]), array([3061974.00512614]), array([3057472.35723488]), array([3053121.81499721]), array([3048916.67020142]), array([3044851.43662418]), array([3040920.84130472]), array([3037119.81616376]), array([3033443.48995337]), array([3029887.18052483]), array([3026446.38740171]), array([3023116.7846463]), array([3019894.21400754]), array([3016774.67833951]), array([3013754.33527961]), array([3010829.49117628]), array([3007996.59525619]), array([3005252.23402174]), array([3002593.12586937]), array([3000016.11592025]), array([2997518.1710548]), array([2995096.37514302]), array([2992747.9244628]), array([2990470.12329896]), array([2988260.37971561]), array([2986116.20149528]), array([2984035.19223792]), array([2982015.04761365]), array([2980053.55176318]), array([2978148.57383987]), array([2976298.06468807]), array([2974500.05365225]), array([2972752.64551166]), array([2971054.01753575]), array([2969402.41665539]), array([2967796.15674547]), array([2966233.61601433]), array([2964713.23449599]), array([2963233.51164088]), array([2961793.00400142]), array([2960390.32300849]), array([2959024.13283539]), array([2957693.14834573]), array([2956396.13312187]), array([2955131.89757096]), array([2953899.29710521]), array([2952697.2303938]), array([2951524.63768322]), array([2950380.49918376]), array([2949263.83351914]), array([2948173.69623707]), array([2947109.17837827]), array([2946069.40510149]), array([2945053.53436256]), array([2944060.75564522]), array([2943090.28874159]), array([2942141.38258056]), array([2941213.31410199]), array([2940305.38717503]), array([2939416.93155882]), array([2938547.30190379]), array([2937695.87679216]), array([2936862.05781592]), array([2936045.26869084]), array([2935244.95440519]), array([2934460.58040172]), array([2933691.63179157]), array([2932937.61259896]), array([2932198.04503532]), array([2931472.46880182]), array([2930760.44041904]), array([2930061.53258291]), array([2929375.33354566]), array([2928701.44652101]), array([2928039.48911248]), array([2927389.092764]), array([2926749.90223193]), array([2926121.57507763]), array([2925503.78117979]), array([2924896.20226573]), array([2924298.53146092]), array([2923710.47285607]), array([2923131.74109097]), array([2922562.06095452]), array([2922001.16700038]), array([2921448.80317738]), array([2920904.72247444]), array([2920368.68657909]), array([2919840.46554942]), array([2919319.83749856]), array([2918806.5882915]), array([2918300.51125361]), array([2917801.40689042]), array([2917309.08261827]), array([2916823.35250533]), array([2916344.0370227]), array([2915870.96280502]), array([2915403.96242043]), array([2914942.87414928]), array([2914487.54177149]), array([2914037.81436201]), array([2913593.54609424]), array([2913154.59605093]), array([2912720.82804241]), array([2912292.11043178]), array([2911868.31596683]), array([2911449.32161841]), array([2911035.00842498]), array([2910625.26134315]), array([2910219.96910391]), array([2909819.02407442]), array([2909422.322125]), array([2909029.76250128]), array([2908641.24770122]), array([2908256.68335679]), array([2907875.97812018]), array([2907499.04355436]), array([2907125.7940278]), array([2906756.14661317]), array([2906390.02098993]), array([2906027.3393506]), array([2905668.02631056]), array([2905312.00882133]), array([2904959.21608709]), array([2904609.57948434]), array([2904263.03248467]), array([2903919.51058037]), array([2903578.95121287]), array([2903241.29370395]), array([2902906.47918938]), array([2902574.45055523]), array([2902245.15237642]), array([2901918.53085774]), array([2901594.5337769]), array([2901273.11042985]), array([2900954.21157809]), array([2900637.78939794]), array([2900323.79743173]), array([2900012.19054078]), array([2899702.92486017]), array([2899395.95775512]), array([2899091.24777909]), array([2898788.75463333]), array([2898488.439128]), array([2898190.26314467]), array([2897894.18960028]), array([2897600.18241234]), array([2897308.20646546]), array([2897018.22757912]), array([2896730.21247659]), array([2896444.12875501]), array([2896159.94485653]), array([2895877.63004057]), array([2895597.15435701]), array([2895318.48862043]), array([2895041.60438522]), array([2894766.47392165]), array([2894493.07019275]), array([2894221.36683209]), array([2893951.33812227]), array([2893682.9589743]), array([2893416.20490761]), array([2893151.05203087]), array([2892887.4770234]), array([2892625.45711733]), array([2892364.97008033]), array([2892105.99419904]), array([2891848.50826295]), array([2891592.49154901]), array([2891337.92380664]), array([2891084.78524337]), array([2890833.05651094]), array([2890582.71869188]), array([2890333.75328658]), array([2890086.14220082]), array([2889839.8677337]), array([2889594.912566]), array([2889351.25974895]), array([2889108.89269343]), array([2888867.79515944]), array([2888627.951246]), array([2888389.34538144]), array([2888151.96231389]), array([2887915.78710222]), array([2887680.80510722]), array([2887447.00198313]), array([2887214.36366936]), array([2886982.87638259]), array([2886752.52660911]), array([2886523.30109736]), array([2886295.1868508]), array([2886068.17112094]), array([2885842.24140066]), array([2885617.38541774]), array([2885393.59112854]), array([2885170.846712]), array([2884949.14056372]), array([2884728.46129032]), array([2884508.79770392]), array([2884290.13881686]), array([2884072.4738365]), array([2883855.79216032]), array([2883640.08337102]), array([2883425.33723191]), array([2883211.54368237]), array([2882998.69283345]), array([2882786.77496367]), array([2882575.78051491]), array([2882365.70008838]), array([2882156.52444082]), array([2881948.24448076]), array([2881740.85126486]), array([2881534.33599441]), array([2881328.69001197]), array([2881123.90479801]), array([2880919.97196774]), array([2880716.883268]), array([2880514.63057423]), array([2880313.20588759]), array([2880112.60133208]), array([2879912.8091518]), array([2879713.82170829]), array([2879515.63147793]), array([2879318.23104941]), array([2879121.6131213]), array([2878925.77049967]), array([2878730.69609578]), array([2878536.38292383]), array([2878342.82409878]), array([2878150.01283428]), array([2877957.94244053]), array([2877766.60632236]), array([2877575.99797723]), array([2877386.11099335]), array([2877196.93904786]), array([2877008.47590503]), array([2876820.7154145]), array([2876633.65150962]), array([2876447.27820576]), array([2876261.58959875]), array([2876076.57986329]), array([2875892.24325142]), array([2875708.57409106]), array([2875525.56678457]), array([2875343.21580731]), array([2875161.51570631]), array([2874980.46109892]), array([2874800.0466715]), array([2874620.26717816]), array([2874441.11743953]), array([2874262.59234154]), array([2874084.68683426]), array([2873907.39593075]), array([2873730.71470593]), array([2873554.6382955]), array([2873379.16189488]), array([2873204.28075816]), array([2873029.99019709]), array([2872856.28558007]), array([2872683.16233124]), array([2872510.61592945]), array([2872338.64190744]), array([2872167.23585085]), array([2871996.39339738]), array([2871826.11023592]), array([2871656.38210573]), array([2871487.20479559]), array([2871318.57414301]), array([2871150.48603345]), array([2870982.93639954]), array([2870815.92122034]), array([2870649.43652059]), array([2870483.47837002]), array([2870318.04288262]), array([2870153.12621595]), array([2869988.72457049]), array([2869824.83418896]), array([2869661.45135569]), array([2869498.57239599]), array([2869336.19367549]), array([2869174.3115996]), array([2869012.92261287]), array([2868852.02319842]), array([2868691.60987737]), array([2868531.67920829]), array([2868372.22778664]), array([2868213.25224425]), array([2868054.74924877]), array([2867896.71550319]), array([2867739.1477453]), array([2867582.04274721]), array([2867425.39731487]), array([2867269.20828759]), array([2867113.47253755]), array([2866958.18696939]), array([2866803.3485197]), array([2866648.95415664]), array([2866495.00087945]), array([2866341.48571807]), array([2866188.40573268]), array([2866035.75801335]), array([2865883.53967956]), array([2865731.74787987]), array([2865580.37979151]), array([2865429.43261997]), array([2865278.90359869]), array([2865128.78998862]), array([2864979.08907792]), array([2864829.79818155]), array([2864680.91464097]), array([2864532.43582377]), array([2864384.35912333]), array([2864236.6819585]), array([2864089.40177329]), array([2863942.51603651]), array([2863796.02224149]), array([2863649.91790574]), array([2863504.20057068]), array([2863358.86780132]), array([2863213.91718596]), array([2863069.34633592]), array([2862925.15288524]), array([2862781.3344904]), array([2862637.88883005]), array([2862494.81360475]), array([2862352.10653667]), array([2862209.76536935]), array([2862067.78786746]), array([2861926.1718165]), array([2861784.91502256]), array([2861644.01531214]), array([2861503.47053179]), array([2861363.27854798]), array([2861223.4372468]), array([2861083.94453374]), array([2860944.79833348]), array([2860805.99658964]), array([2860667.5372646]), array([2860529.41833922]), array([2860391.63781267]), array([2860254.19370221]), array([2860117.08404299]), array([2859980.3068878]), array([2859843.86030691]), array([2859707.74238789]), array([2859571.95123535]), array([2859436.48497079]), array([2859301.34173239]), array([2859166.51967485]), array([2859032.01696915]), array([2858897.83180245]), array([2858763.96237781]), array([2858630.40691408]), array([2858497.16364574]), array([2858364.23082264]), array([2858231.60670991]), array([2858099.28958779]), array([2857967.27775138]), array([2857835.5695106]), array([2857704.16318992]), array([2857573.05712826]), array([2857442.24967882]), array([2857311.73920894]), array([2857181.52409989]), array([2857051.60274681]), array([2856921.97355846]), array([2856792.63495718]), array([2856663.58537864]), array([2856534.82327178]), array([2856406.34709863]), array([2856278.15533417]), array([2856150.24646621]), array([2856022.61899524]), array([2855895.2714343]), array([2855768.20230886]), array([2855641.41015666]), array([2855514.89352763]), array([2855388.6509837]), array([2855262.68109873]), array([2855136.98245837]), array([2855011.55365991]), array([2854886.39331221]), array([2854761.50003554]), array([2854636.87246147]), array([2854512.50923277]), array([2854388.40900329]), array([2854264.57043783]), array([2854140.99221204]), array([2854017.67301233]), array([2853894.61153573]), array([2853771.80648979]), array([2853649.25659248]), array([2853526.96057208]), array([2853404.91716709]), array([2853283.12512612]), array([2853161.58320776]), array([2853040.29018053]), array([2852919.24482274]), array([2852798.44592244]), array([2852677.89227725]), array([2852557.58269435]), array([2852437.5159903]), array([2852317.69099104]), array([2852198.1065317]), array([2852078.7614566]), array([2851959.6546191]), array([2851840.78488152]), array([2851722.15111508]), array([2851603.75219979]), array([2851485.58702437]), array([2851367.65448617]), array([2851249.95349107]), array([2851132.48295343]), array([2851015.24179596]), array([2850898.2289497]), array([2850781.44335388]), array([2850664.88395589]), array([2850548.54971117]), array([2850432.43958315]), array([2850316.55254315]), array([2850200.88757034]), array([2850085.44365166]), array([2849970.2197817]), array([2849855.21496269]), array([2849740.42820439]), array([2849625.85852403]), array([2849511.50494624]), array([2849397.36650297]), array([2849283.44223344]), array([2849169.73118406]), array([2849056.23240837]), array([2848942.94496695])]\n"
     ]
    }
   ],
   "source": [
    "def gradient_descent(x,y,w,b,alpha,num_iters):\n",
    "    j_history=[]\n",
    "    for i in range(num_iters):\n",
    "        dj_dw,dj_db=compute_gradient(x,y,w,b)\n",
    "        w=w-alpha*dj_dw\n",
    "        b=b-alpha*dj_db\n",
    "        j_history.append(compute_cost(x,y,w,b))\n",
    "    return w,b,j_history  \n",
    "b=0\n",
    "num_iters=600\n",
    "w_fin,b_fin,j_hist=gradient_descent(x_norm_train,y_train,w,b,0.02,num_iters)\n",
    "print(w_fin)\n",
    "print(b_fin)\n",
    "print(j_hist)\n"
   ]
  },
  {
   "cell_type": "code",
   "execution_count": 128,
   "metadata": {},
   "outputs": [
    {
     "name": "stdout",
     "output_type": "stream",
     "text": [
      "(600,)\n",
      "(600, 1)\n"
     ]
    },
    {
     "data": {
      "text/plain": [
       "<matplotlib.collections.PathCollection at 0x13a719ca0>"
      ]
     },
     "execution_count": 128,
     "metadata": {},
     "output_type": "execute_result"
    },
    {
     "data": {
      "image/png": "[encoded data removed]",
      "text/plain": [
       "<Figure size 640x480 with 1 Axes>"
      ]
     },
     "metadata": {},
     "output_type": "display_data"
    }
   ],
   "source": [
    "iters=np.arange(num_iters)\n",
    "print(np.shape(iters))\n",
    "j_hist=np.array(j_hist)\n",
    "print(np.shape(j_hist))\n",
    "plt.scatter(iters,j_hist,color='red',marker='x')"
   ]
  },
  {
   "cell_type": "code",
   "execution_count": 146,
   "metadata": {},
   "outputs": [
    {
     "name": "stdout",
     "output_type": "stream",
     "text": [
      "[20399.61540612 14126.86395801 12601.88458957 17302.70776245\n",
      " 13561.66331137  7573.40948356 17059.09247544  6597.25689065\n",
      " 19294.9806216  12269.39124002 10901.50742808 30621.92230765\n",
      " 10965.68396511  7013.90158718  8693.62421663  6593.45736613\n",
      " 14763.93960517 33104.43479207 10546.51095492  5843.32521316\n",
      "  8404.13620734 16846.60134037  6960.46107901  9411.55387543\n",
      "  9163.67038009  5026.40967905 20401.72380159 10616.77975669\n",
      " 19690.87956169 10928.52884199 34861.74862574  5738.22733242\n",
      " 17406.96196796  8050.76518101  9622.44113088 32592.56854834\n",
      " 21190.14174673 21491.58226982  7134.35065208 19976.76732323\n",
      " 18986.34692374]\n"
     ]
    }
   ],
   "source": [
    "m,n=np.shape(x_test)\n",
    "p,q=np.shape(x_train)\n",
    "y_pred=np.zeros((m,))\n",
    "y_train_pred=np.zeros((p,))\n",
    "\n",
    "x_test_norm=(x_test-mu)/sd\n",
    "for i in range(m):\n",
    "    y_pred[i]+=(np.dot(x_test_norm[i],w_fin)+b_fin[0])\n",
    "print(y_pred)\n",
    "for i in range(p):\n",
    "    y_train_pred[i]+=(np.dot(x_norm_train[i],w_fin)+b_fin[0])"
   ]
  },
  {
   "cell_type": "code",
   "execution_count": 147,
   "metadata": {},
   "outputs": [
    {
     "name": "stdout",
     "output_type": "stream",
     "text": [
      "The training accuracy of our model is 90.0%\n"
     ]
    }
   ],
   "source": [
    "from sklearn.metrics import r2_score\n",
    "score = r2_score(y_train, y_train_pred)\n",
    "print(\"The training accuracy of our model is {}%\".format(round(score, 2) *100))"
   ]
  },
  {
   "cell_type": "code",
   "execution_count": 148,
   "metadata": {},
   "outputs": [
    {
     "name": "stdout",
     "output_type": "stream",
     "text": [
      "The training accuracy of our model is 86.0%\n"
     ]
    }
   ],
   "source": [
    "score = r2_score(y_test, y_pred)\n",
    "print(\"The testing accuracy of our model is {}%\".format(round(score, 2) *100))"
   ]
  }
 ],
 "metadata": {
  "kernelspec": {
   "display_name": "Python 3",
   "language": "python",
   "name": "python3"
  },
  "language_info": {
   "codemirror_mode": {
    "name": "ipython",
    "version": 3
   },
   "file_extension": ".py",
   "mimetype": "text/x-python",
   "name": "python",
   "nbconvert_exporter": "python",
   "pygments_lexer": "ipython3",
   "version": "3.9.6"
  }
 },
 "nbformat": 4,
 "nbformat_minor": 2
}
